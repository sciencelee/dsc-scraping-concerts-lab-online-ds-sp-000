{
 "cells": [
  {
   "cell_type": "markdown",
   "metadata": {},
   "source": [
    "# Scraping Concerts - Lab\n",
    "\n",
    "## Introduction\n",
    "\n",
    "Now that you've seen how to scrape a simple website, it's time to again practice those skills on a full-fledged site!\n",
    "In this lab, you'll practice your scraping skills on a music website: https://www.residentadvisor.net.\n",
    "## Objectives\n",
    "\n",
    "You will be able to:\n",
    "* Create a full scraping pipeline that involves traversing over many pages of a website, dealing with errors and storing data"
   ]
  },
  {
   "cell_type": "markdown",
   "metadata": {},
   "source": [
    "## View the Website\n",
    "\n",
    "For this lab, you'll be scraping the https://www.residentadvisor.net website. Start by navigating to the events page [here](https://www.residentadvisor.net/events) in your browser.\n",
    "\n",
    "<img src=\"images/ra.png\">"
   ]
  },
  {
   "cell_type": "code",
   "execution_count": null,
   "metadata": {},
   "outputs": [],
   "source": [
    "# Load the https://www.residentadvisor.net/events page in your browser.\n"
   ]
  },
  {
   "cell_type": "markdown",
   "metadata": {},
   "source": [
    "## Open the Inspect Element Feature\n",
    "\n",
    "Next, open the inspect element feature from your web browser in order to preview the underlying HTML associated with the page."
   ]
  },
  {
   "cell_type": "code",
   "execution_count": null,
   "metadata": {},
   "outputs": [],
   "source": [
    "# Open the inspect element feature in your browser"
   ]
  },
  {
   "cell_type": "markdown",
   "metadata": {},
   "source": [
    "## Write a Function to Scrape all of the Events on the Given Page Events Page\n",
    "\n",
    "The function should return a Pandas DataFrame with columns for the Event_Name, Venue, Event_Date and Number_of_Attendees."
   ]
  },
  {
   "cell_type": "code",
   "execution_count": 221,
   "metadata": {},
   "outputs": [
    {
     "data": {
      "text/html": [
       "<div>\n",
       "<style scoped>\n",
       "    .dataframe tbody tr th:only-of-type {\n",
       "        vertical-align: middle;\n",
       "    }\n",
       "\n",
       "    .dataframe tbody tr th {\n",
       "        vertical-align: top;\n",
       "    }\n",
       "\n",
       "    .dataframe thead th {\n",
       "        text-align: right;\n",
       "    }\n",
       "</style>\n",
       "<table border=\"1\" class=\"dataframe\">\n",
       "  <thead>\n",
       "    <tr style=\"text-align: right;\">\n",
       "      <th></th>\n",
       "      <th>Date</th>\n",
       "      <th>Event</th>\n",
       "      <th>Venue</th>\n",
       "      <th>Attending</th>\n",
       "    </tr>\n",
       "  </thead>\n",
       "  <tbody>\n",
       "    <tr>\n",
       "      <td>0</td>\n",
       "      <td>2020-05-01</td>\n",
       "      <td>Guy J</td>\n",
       "      <td>at Spybar</td>\n",
       "      <td>9</td>\n",
       "    </tr>\n",
       "    <tr>\n",
       "      <td>1</td>\n",
       "      <td>2020-05-02</td>\n",
       "      <td>Attlas: Lavender God Tour</td>\n",
       "      <td>at Spybar</td>\n",
       "      <td>6</td>\n",
       "    </tr>\n",
       "    <tr>\n",
       "      <td>2</td>\n",
       "      <td>2020-05-02</td>\n",
       "      <td>Elrow Rowsattacks Goes to Chicago</td>\n",
       "      <td>at Radius</td>\n",
       "      <td>14</td>\n",
       "    </tr>\n",
       "  </tbody>\n",
       "</table>\n",
       "</div>"
      ],
      "text/plain": [
       "        Date                               Event      Venue  Attending\n",
       "0 2020-05-01                               Guy J  at Spybar          9\n",
       "1 2020-05-02           Attlas: Lavender God Tour  at Spybar          6\n",
       "2 2020-05-02   Elrow Rowsattacks Goes to Chicago  at Radius         14"
      ]
     },
     "execution_count": 221,
     "metadata": {},
     "output_type": "execute_result"
    }
   ],
   "source": [
    "from bs4 import BeautifulSoup\n",
    "import requests\n",
    "import pandas as pd\n",
    "from datetime import datetime\n",
    "\n",
    "\n",
    "def scrape_events(events_page_url):\n",
    "    html_page = requests.get(url) # Make a get request to retrieve the page\n",
    "    soup = BeautifulSoup(html_page.content, 'html.parser') # Make some soup\n",
    "    all_tag = soup.find('ul', {'id': 'items'})  # this is my container\n",
    "    #cols = ['Date', \"Event\"]\n",
    "    \n",
    "    all_events = [x for x in all_tag.find_all('li')]\n",
    "    new_events = []\n",
    "    for event in all_events:\n",
    "        if event.find('p', {'class': 'eventDate date'}):\n",
    "            date = event.find('p', {'class': 'date'}).span.text.strip('/').strip()\n",
    "            date = datetime.strptime(date, '%a, %d %b %Y')\n",
    "            continue\n",
    "        if event.find('h1', {'class': \"event-title\"}):\n",
    "            title = event.find('h1', {'class': 'event-title'}).find('a')['title'].replace(\"Event details of\", \"\")\n",
    "            venue = event.find('div', {'class': 'bbox'}).find('span').text\n",
    "            attending = int(event.find('p', {'class': 'attending'}).find('span').text)\n",
    "    \n",
    "        new_event = {'Date': date, \"Event\": title, \"Venue\": venue, \"Attending\": attending}\n",
    "        new_events.append(new_event)\n",
    "    \n",
    "    df = pd.DataFrame(new_events)\n",
    "    return df\n",
    "    \n",
    "\n",
    "\n",
    "url = \"https://www.residentadvisor.net/events\"\n",
    "scrape_events(url)\n"
   ]
  },
  {
   "cell_type": "markdown",
   "metadata": {},
   "source": [
    "## Write a Function to Retrieve the URL for the Next Page"
   ]
  },
  {
   "cell_type": "code",
   "execution_count": 222,
   "metadata": {},
   "outputs": [],
   "source": [
    "def next_page(url):\n",
    "    html_page = requests.get(url) # Make a get request to retrieve the page\n",
    "    soup = BeautifulSoup(html_page.content, 'html.parser') # Make some soup\n",
    "    button = soup.find('a', {'ga-event-action': 'Next '})  # event container\n",
    "    next_page_url = 'https://www.residentadvisor.net' + button['href']\n",
    "    return next_page_url\n",
    "\n",
    "\n",
    "# url = \"https://www.residentadvisor.net/events\"\n",
    "# print(button['href'])\n",
    "# next_page_url = 'https://www.residentadvisor.net' + button['href']\n",
    "# print(next_page_url)\n",
    "# next_page_url = button.attr('href')\n",
    "\n",
    "\n",
    "\n",
    "#next_page(url)\n",
    "\n",
    "#<a ga-on=\"click\" ga-event-category=\"event-listings\" ga-event-action=\"Next \" href=\"/events/us/chicago/week/2020-05-07\">Next </a>"
   ]
  },
  {
   "cell_type": "markdown",
   "metadata": {},
   "source": [
    "## Scrape the Next 1000 Events for Your Area\n",
    "\n",
    "Display the data sorted by the number of attendees. If there is a tie for the number attending, sort by event date."
   ]
  },
  {
   "cell_type": "code",
   "execution_count": null,
   "metadata": {},
   "outputs": [
    {
     "name": "stdout",
     "output_type": "stream",
     "text": [
      "https://www.residentadvisor.net/events\n",
      "https://www.residentadvisor.net/events/us/chicago/week/2020-05-07\n",
      "https://www.residentadvisor.net/events/us/chicago/week/2020-05-14 3\n",
      "https://www.residentadvisor.net/events/us/chicago/week/2020-05-21 5\n",
      "https://www.residentadvisor.net/events/us/chicago/week/2020-05-28 7\n",
      "https://www.residentadvisor.net/events/us/chicago/week/2020-06-04 9\n",
      "https://www.residentadvisor.net/events/us/chicago/week/2020-06-11 11\n",
      "https://www.residentadvisor.net/events/us/chicago/week/2020-06-18 13\n",
      "https://www.residentadvisor.net/events/us/chicago/week/2020-06-25 15\n",
      "https://www.residentadvisor.net/events/us/chicago/week/2020-07-02 15\n",
      "https://www.residentadvisor.net/events/us/chicago/week/2020-07-09 15\n",
      "https://www.residentadvisor.net/events/us/chicago/week/2020-07-16 20\n",
      "https://www.residentadvisor.net/events/us/chicago/week/2020-07-23 20\n",
      "https://www.residentadvisor.net/events/us/chicago/week/2020-07-30 21\n",
      "https://www.residentadvisor.net/events/us/chicago/week/2020-08-06 21\n",
      "https://www.residentadvisor.net/events/us/chicago/week/2020-08-13 21\n",
      "https://www.residentadvisor.net/events/us/chicago/week/2020-08-20 21\n",
      "https://www.residentadvisor.net/events/us/chicago/week/2020-08-27 21\n",
      "https://www.residentadvisor.net/events/us/chicago/week/2020-09-03 21\n",
      "https://www.residentadvisor.net/events/us/chicago/week/2020-09-10 22\n",
      "https://www.residentadvisor.net/events/us/chicago/week/2020-09-17 22\n",
      "https://www.residentadvisor.net/events/us/chicago/week/2020-09-24 23\n",
      "https://www.residentadvisor.net/events/us/chicago/week/2020-10-01 23\n",
      "https://www.residentadvisor.net/events/us/chicago/week/2020-10-08 23\n",
      "https://www.residentadvisor.net/events/us/chicago/week/2020-10-15 24\n",
      "https://www.residentadvisor.net/events/us/chicago/week/2020-10-22 24\n",
      "https://www.residentadvisor.net/events/us/chicago/week/2020-10-29 24\n",
      "https://www.residentadvisor.net/events/us/chicago/week/2020-11-05 24\n",
      "https://www.residentadvisor.net/events/us/chicago/week/2020-11-12 24\n",
      "https://www.residentadvisor.net/events/us/chicago/week/2020-11-19 24\n",
      "https://www.residentadvisor.net/events/us/chicago/week/2020-11-26 24\n"
     ]
    }
   ],
   "source": [
    "#Your code here\n",
    "\n",
    "url = \"https://www.residentadvisor.net/events\"\n",
    "print(url)\n",
    "df = scrape_events(url)\n",
    "url = next_page(url)\n",
    "print(url)\n",
    "done = False\n",
    "\n",
    "while len(df) < 1000:\n",
    "    try:\n",
    "        new_df = scrape_events(url)\n",
    "        url = next_page(url)\n",
    "        print(url, len(df))\n",
    "        df = pd.concat([new_df, df])\n",
    "    except:\n",
    "        done = True\n",
    "\n",
    "df.index = [x for x in range(len(df))]\n",
    "df = df.sort_values(by=[\"Attending\", 'Date'], ascending=[0, 1])\n",
    "df\n",
    "\n",
    "    "
   ]
  },
  {
   "cell_type": "markdown",
   "metadata": {},
   "source": [
    "## Summary \n",
    "\n",
    "Congratulations! In this lab, you successfully developed a pipeline to scrape a website for concert event information!"
   ]
  },
  {
   "cell_type": "markdown",
   "metadata": {},
   "source": [
    "COVID-19 Cancellations!!  There are almost no events.  I could never get to 1000 this way."
   ]
  },
  {
   "cell_type": "code",
   "execution_count": null,
   "metadata": {},
   "outputs": [],
   "source": []
  }
 ],
 "metadata": {
  "kernelspec": {
   "display_name": "Python 3",
   "language": "python",
   "name": "python3"
  },
  "language_info": {
   "codemirror_mode": {
    "name": "ipython",
    "version": 3
   },
   "file_extension": ".py",
   "mimetype": "text/x-python",
   "name": "python",
   "nbconvert_exporter": "python",
   "pygments_lexer": "ipython3",
   "version": "3.6.9"
  }
 },
 "nbformat": 4,
 "nbformat_minor": 2
}
